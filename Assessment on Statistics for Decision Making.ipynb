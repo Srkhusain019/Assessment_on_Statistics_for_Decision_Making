{
 "cells": [
  {
   "cell_type": "code",
   "execution_count": 2,
   "id": "40ca5bb9",
   "metadata": {},
   "outputs": [],
   "source": [
    "import pandas as pd\n",
    "import numpy as np\n",
    "import seaborn as sns\n",
    "import matplotlib.pyplot as plt\n",
    "import scipy.stats as ss"
   ]
  },
  {
   "cell_type": "markdown",
   "id": "8ccaf9cc",
   "metadata": {},
   "source": [
    "### Data Loading"
   ]
  },
  {
   "cell_type": "code",
   "execution_count": 23,
   "id": "3fcffbc8",
   "metadata": {},
   "outputs": [],
   "source": [
    "df= pd.read_csv(r\"C:\\Users\\husai\\OneDrive\\Desktop\\Project&Assignments\\HypothesisTesting\\property.csv\")"
   ]
  },
  {
   "cell_type": "code",
   "execution_count": 24,
   "id": "024fc941",
   "metadata": {},
   "outputs": [
    {
     "data": {
      "text/html": [
       "<div>\n",
       "<style scoped>\n",
       "    .dataframe tbody tr th:only-of-type {\n",
       "        vertical-align: middle;\n",
       "    }\n",
       "\n",
       "    .dataframe tbody tr th {\n",
       "        vertical-align: top;\n",
       "    }\n",
       "\n",
       "    .dataframe thead th {\n",
       "        text-align: right;\n",
       "    }\n",
       "</style>\n",
       "<table border=\"1\" class=\"dataframe\">\n",
       "  <thead>\n",
       "    <tr style=\"text-align: right;\">\n",
       "      <th></th>\n",
       "      <th>Suburb</th>\n",
       "      <th>Address</th>\n",
       "      <th>Rooms</th>\n",
       "      <th>Type</th>\n",
       "      <th>Price</th>\n",
       "      <th>Method</th>\n",
       "      <th>SellerG</th>\n",
       "      <th>Date</th>\n",
       "      <th>Distance</th>\n",
       "      <th>Postcode</th>\n",
       "      <th>...</th>\n",
       "      <th>Bathroom</th>\n",
       "      <th>Car</th>\n",
       "      <th>Landsize</th>\n",
       "      <th>BuildingArea</th>\n",
       "      <th>YearBuilt</th>\n",
       "      <th>CouncilArea</th>\n",
       "      <th>Lattitude</th>\n",
       "      <th>Longtitude</th>\n",
       "      <th>Regionname</th>\n",
       "      <th>Propertycount</th>\n",
       "    </tr>\n",
       "  </thead>\n",
       "  <tbody>\n",
       "    <tr>\n",
       "      <th>0</th>\n",
       "      <td>Abbotsford</td>\n",
       "      <td>85 Turner St</td>\n",
       "      <td>2</td>\n",
       "      <td>h</td>\n",
       "      <td>1480000.0</td>\n",
       "      <td>S</td>\n",
       "      <td>Biggin</td>\n",
       "      <td>3/12/2016</td>\n",
       "      <td>2.5</td>\n",
       "      <td>3067.0</td>\n",
       "      <td>...</td>\n",
       "      <td>1.0</td>\n",
       "      <td>1.0</td>\n",
       "      <td>202.0</td>\n",
       "      <td>NaN</td>\n",
       "      <td>NaN</td>\n",
       "      <td>Yarra</td>\n",
       "      <td>-37.7996</td>\n",
       "      <td>144.9984</td>\n",
       "      <td>Northern Metropolitan</td>\n",
       "      <td>4019.0</td>\n",
       "    </tr>\n",
       "    <tr>\n",
       "      <th>1</th>\n",
       "      <td>Abbotsford</td>\n",
       "      <td>25 Bloomburg St</td>\n",
       "      <td>2</td>\n",
       "      <td>h</td>\n",
       "      <td>1035000.0</td>\n",
       "      <td>S</td>\n",
       "      <td>Biggin</td>\n",
       "      <td>4/02/2016</td>\n",
       "      <td>2.5</td>\n",
       "      <td>3067.0</td>\n",
       "      <td>...</td>\n",
       "      <td>1.0</td>\n",
       "      <td>0.0</td>\n",
       "      <td>156.0</td>\n",
       "      <td>79.0</td>\n",
       "      <td>1900.0</td>\n",
       "      <td>Yarra</td>\n",
       "      <td>-37.8079</td>\n",
       "      <td>144.9934</td>\n",
       "      <td>Northern Metropolitan</td>\n",
       "      <td>4019.0</td>\n",
       "    </tr>\n",
       "    <tr>\n",
       "      <th>2</th>\n",
       "      <td>Abbotsford</td>\n",
       "      <td>5 Charles St</td>\n",
       "      <td>3</td>\n",
       "      <td>h</td>\n",
       "      <td>1465000.0</td>\n",
       "      <td>SP</td>\n",
       "      <td>Biggin</td>\n",
       "      <td>4/03/2017</td>\n",
       "      <td>2.5</td>\n",
       "      <td>3067.0</td>\n",
       "      <td>...</td>\n",
       "      <td>2.0</td>\n",
       "      <td>0.0</td>\n",
       "      <td>134.0</td>\n",
       "      <td>150.0</td>\n",
       "      <td>1900.0</td>\n",
       "      <td>Yarra</td>\n",
       "      <td>-37.8093</td>\n",
       "      <td>144.9944</td>\n",
       "      <td>Northern Metropolitan</td>\n",
       "      <td>4019.0</td>\n",
       "    </tr>\n",
       "    <tr>\n",
       "      <th>3</th>\n",
       "      <td>Abbotsford</td>\n",
       "      <td>40 Federation La</td>\n",
       "      <td>3</td>\n",
       "      <td>h</td>\n",
       "      <td>850000.0</td>\n",
       "      <td>PI</td>\n",
       "      <td>Biggin</td>\n",
       "      <td>4/03/2017</td>\n",
       "      <td>2.5</td>\n",
       "      <td>3067.0</td>\n",
       "      <td>...</td>\n",
       "      <td>2.0</td>\n",
       "      <td>1.0</td>\n",
       "      <td>94.0</td>\n",
       "      <td>NaN</td>\n",
       "      <td>NaN</td>\n",
       "      <td>Yarra</td>\n",
       "      <td>-37.7969</td>\n",
       "      <td>144.9969</td>\n",
       "      <td>Northern Metropolitan</td>\n",
       "      <td>4019.0</td>\n",
       "    </tr>\n",
       "    <tr>\n",
       "      <th>4</th>\n",
       "      <td>Abbotsford</td>\n",
       "      <td>55a Park St</td>\n",
       "      <td>4</td>\n",
       "      <td>h</td>\n",
       "      <td>1600000.0</td>\n",
       "      <td>VB</td>\n",
       "      <td>Nelson</td>\n",
       "      <td>4/06/2016</td>\n",
       "      <td>2.5</td>\n",
       "      <td>3067.0</td>\n",
       "      <td>...</td>\n",
       "      <td>1.0</td>\n",
       "      <td>2.0</td>\n",
       "      <td>120.0</td>\n",
       "      <td>142.0</td>\n",
       "      <td>2014.0</td>\n",
       "      <td>Yarra</td>\n",
       "      <td>-37.8072</td>\n",
       "      <td>144.9941</td>\n",
       "      <td>Northern Metropolitan</td>\n",
       "      <td>4019.0</td>\n",
       "    </tr>\n",
       "  </tbody>\n",
       "</table>\n",
       "<p>5 rows × 21 columns</p>\n",
       "</div>"
      ],
      "text/plain": [
       "       Suburb           Address  Rooms Type      Price Method SellerG  \\\n",
       "0  Abbotsford      85 Turner St      2    h  1480000.0      S  Biggin   \n",
       "1  Abbotsford   25 Bloomburg St      2    h  1035000.0      S  Biggin   \n",
       "2  Abbotsford      5 Charles St      3    h  1465000.0     SP  Biggin   \n",
       "3  Abbotsford  40 Federation La      3    h   850000.0     PI  Biggin   \n",
       "4  Abbotsford       55a Park St      4    h  1600000.0     VB  Nelson   \n",
       "\n",
       "        Date  Distance  Postcode  ...  Bathroom  Car  Landsize  BuildingArea  \\\n",
       "0  3/12/2016       2.5    3067.0  ...       1.0  1.0     202.0           NaN   \n",
       "1  4/02/2016       2.5    3067.0  ...       1.0  0.0     156.0          79.0   \n",
       "2  4/03/2017       2.5    3067.0  ...       2.0  0.0     134.0         150.0   \n",
       "3  4/03/2017       2.5    3067.0  ...       2.0  1.0      94.0           NaN   \n",
       "4  4/06/2016       2.5    3067.0  ...       1.0  2.0     120.0         142.0   \n",
       "\n",
       "   YearBuilt  CouncilArea Lattitude  Longtitude             Regionname  \\\n",
       "0        NaN        Yarra  -37.7996    144.9984  Northern Metropolitan   \n",
       "1     1900.0        Yarra  -37.8079    144.9934  Northern Metropolitan   \n",
       "2     1900.0        Yarra  -37.8093    144.9944  Northern Metropolitan   \n",
       "3        NaN        Yarra  -37.7969    144.9969  Northern Metropolitan   \n",
       "4     2014.0        Yarra  -37.8072    144.9941  Northern Metropolitan   \n",
       "\n",
       "  Propertycount  \n",
       "0        4019.0  \n",
       "1        4019.0  \n",
       "2        4019.0  \n",
       "3        4019.0  \n",
       "4        4019.0  \n",
       "\n",
       "[5 rows x 21 columns]"
      ]
     },
     "execution_count": 24,
     "metadata": {},
     "output_type": "execute_result"
    }
   ],
   "source": [
    "df.head()"
   ]
  },
  {
   "cell_type": "markdown",
   "id": "1dbfa3d5",
   "metadata": {},
   "source": [
    "### Handling Missing values"
   ]
  },
  {
   "cell_type": "code",
   "execution_count": 25,
   "id": "abcac7bb",
   "metadata": {},
   "outputs": [
    {
     "name": "stdout",
     "output_type": "stream",
     "text": [
      "<class 'pandas.core.frame.DataFrame'>\n",
      "RangeIndex: 13580 entries, 0 to 13579\n",
      "Data columns (total 21 columns):\n",
      " #   Column         Non-Null Count  Dtype  \n",
      "---  ------         --------------  -----  \n",
      " 0   Suburb         13580 non-null  object \n",
      " 1   Address        13580 non-null  object \n",
      " 2   Rooms          13580 non-null  int64  \n",
      " 3   Type           13580 non-null  object \n",
      " 4   Price          13580 non-null  float64\n",
      " 5   Method         13580 non-null  object \n",
      " 6   SellerG        13580 non-null  object \n",
      " 7   Date           13580 non-null  object \n",
      " 8   Distance       13580 non-null  float64\n",
      " 9   Postcode       13580 non-null  float64\n",
      " 10  Bedroom2       13580 non-null  float64\n",
      " 11  Bathroom       13580 non-null  float64\n",
      " 12  Car            13518 non-null  float64\n",
      " 13  Landsize       13580 non-null  float64\n",
      " 14  BuildingArea   7130 non-null   float64\n",
      " 15  YearBuilt      8205 non-null   float64\n",
      " 16  CouncilArea    12211 non-null  object \n",
      " 17  Lattitude      13580 non-null  float64\n",
      " 18  Longtitude     13580 non-null  float64\n",
      " 19  Regionname     13580 non-null  object \n",
      " 20  Propertycount  13580 non-null  float64\n",
      "dtypes: float64(12), int64(1), object(8)\n",
      "memory usage: 2.2+ MB\n"
     ]
    }
   ],
   "source": [
    "df.info()"
   ]
  },
  {
   "cell_type": "code",
   "execution_count": 26,
   "id": "0ae1ad24",
   "metadata": {},
   "outputs": [
    {
     "name": "stdout",
     "output_type": "stream",
     "text": [
      "<class 'pandas.core.series.Series'>\n",
      "RangeIndex: 13580 entries, 0 to 13579\n",
      "Series name: Date\n",
      "Non-Null Count  Dtype         \n",
      "--------------  -----         \n",
      "13580 non-null  datetime64[ns]\n",
      "dtypes: datetime64[ns](1)\n",
      "memory usage: 106.2 KB\n",
      "None\n"
     ]
    }
   ],
   "source": [
    "# Converting Date into datetime format\n",
    "df['Date'] = pd.to_datetime(df['Date'], dayfirst=True)\n",
    "\n",
    "# Check the data type to confirm the conversion\n",
    "print(df['Date'].info())"
   ]
  },
  {
   "cell_type": "code",
   "execution_count": 27,
   "id": "7030f04a",
   "metadata": {},
   "outputs": [],
   "source": [
    "# There in Car column some values are missing and don't want to Know so,\n",
    "df['Car'].fillna('Unknown', inplace=True)"
   ]
  },
  {
   "cell_type": "code",
   "execution_count": 28,
   "id": "9bb7ed36",
   "metadata": {
    "scrolled": false
   },
   "outputs": [
    {
     "name": "stdout",
     "output_type": "stream",
     "text": [
      "<class 'pandas.core.series.Series'>\n",
      "RangeIndex: 13580 entries, 0 to 13579\n",
      "Series name: BuildingArea\n",
      "Non-Null Count  Dtype  \n",
      "--------------  -----  \n",
      "13223 non-null  float64\n",
      "dtypes: float64(1)\n",
      "memory usage: 106.2 KB\n"
     ]
    }
   ],
   "source": [
    "\n",
    "# Calculate the average BuildingArea for each Landsize\n",
    "average_building_area = df.groupby('Landsize')['BuildingArea'].mean()\n",
    "average_building_area\n",
    "\n",
    "# Create a function to fill missing BuildingArea based on Landsize\n",
    "def fill_building_area(row):\n",
    "    if pd.isnull(row['BuildingArea']):\n",
    "        return average_building_area.get(row['Landsize'], row['BuildingArea'])  # Fallback to original if not found\n",
    "    return row['BuildingArea']\n",
    "\n",
    "# Apply the function to fill missing BuildingArea values\n",
    "df['BuildingArea'] = df.apply(fill_building_area, axis=1)\n",
    "df['BuildingArea'].info()"
   ]
  },
  {
   "cell_type": "code",
   "execution_count": 29,
   "id": "03cf60e9",
   "metadata": {},
   "outputs": [],
   "source": [
    "# These values dont want to Know so,\n",
    "df['BuildingArea'].fillna('Unknown', inplace=True)"
   ]
  },
  {
   "cell_type": "code",
   "execution_count": 30,
   "id": "89810281",
   "metadata": {},
   "outputs": [
    {
     "name": "stdout",
     "output_type": "stream",
     "text": [
      "<class 'pandas.core.series.Series'>\n",
      "RangeIndex: 13580 entries, 0 to 13579\n",
      "Series name: CouncilArea\n",
      "Non-Null Count  Dtype \n",
      "--------------  ----- \n",
      "13573 non-null  object\n",
      "dtypes: object(1)\n",
      "memory usage: 106.2+ KB\n"
     ]
    }
   ],
   "source": [
    "# Handling missing values in the CouncilArea column \n",
    "df['CouncilArea'] = df.groupby('Suburb')['CouncilArea'].transform(\n",
    "    lambda x: x.fillna(x.mode()[0] if not x.mode().empty else x))\n",
    "df['CouncilArea'].info()"
   ]
  },
  {
   "cell_type": "code",
   "execution_count": 31,
   "id": "2ae1474f",
   "metadata": {},
   "outputs": [],
   "source": [
    "# These values dont want to Know so,\n",
    "df['CouncilArea'].fillna('Unknown', inplace=True)"
   ]
  },
  {
   "cell_type": "code",
   "execution_count": 32,
   "id": "5149eaa7",
   "metadata": {},
   "outputs": [
    {
     "name": "stdout",
     "output_type": "stream",
     "text": [
      "<class 'pandas.core.series.Series'>\n",
      "RangeIndex: 13580 entries, 0 to 13579\n",
      "Series name: YearBuilt\n",
      "Non-Null Count  Dtype  \n",
      "--------------  -----  \n",
      "13578 non-null  float64\n",
      "dtypes: float64(1)\n",
      "memory usage: 106.2 KB\n"
     ]
    }
   ],
   "source": [
    "#  filling missing in YearBuilt colomn\n",
    "df['YearBuilt'] = df.groupby('Date')['YearBuilt'].transform(lambda x: x.fillna(x.median()))\n",
    "df['YearBuilt'].info()"
   ]
  },
  {
   "cell_type": "code",
   "execution_count": 33,
   "id": "b0455cea",
   "metadata": {},
   "outputs": [
    {
     "name": "stdout",
     "output_type": "stream",
     "text": [
      "<class 'pandas.core.frame.DataFrame'>\n",
      "RangeIndex: 13580 entries, 0 to 13579\n",
      "Data columns (total 21 columns):\n",
      " #   Column         Non-Null Count  Dtype         \n",
      "---  ------         --------------  -----         \n",
      " 0   Suburb         13580 non-null  object        \n",
      " 1   Address        13580 non-null  object        \n",
      " 2   Rooms          13580 non-null  int64         \n",
      " 3   Type           13580 non-null  object        \n",
      " 4   Price          13580 non-null  float64       \n",
      " 5   Method         13580 non-null  object        \n",
      " 6   SellerG        13580 non-null  object        \n",
      " 7   Date           13580 non-null  datetime64[ns]\n",
      " 8   Distance       13580 non-null  float64       \n",
      " 9   Postcode       13580 non-null  float64       \n",
      " 10  Bedroom2       13580 non-null  float64       \n",
      " 11  Bathroom       13580 non-null  float64       \n",
      " 12  Car            13580 non-null  object        \n",
      " 13  Landsize       13580 non-null  float64       \n",
      " 14  BuildingArea   13580 non-null  object        \n",
      " 15  YearBuilt      13578 non-null  float64       \n",
      " 16  CouncilArea    13580 non-null  object        \n",
      " 17  Lattitude      13580 non-null  float64       \n",
      " 18  Longtitude     13580 non-null  float64       \n",
      " 19  Regionname     13580 non-null  object        \n",
      " 20  Propertycount  13580 non-null  float64       \n",
      "dtypes: datetime64[ns](1), float64(10), int64(1), object(9)\n",
      "memory usage: 2.2+ MB\n"
     ]
    }
   ],
   "source": [
    "df.info()"
   ]
  },
  {
   "cell_type": "markdown",
   "id": "61eeb6f8",
   "metadata": {},
   "source": [
    "## My data is cleaned now the First task is "
   ]
  },
  {
   "cell_type": "markdown",
   "id": "7bf34ae7",
   "metadata": {},
   "source": [
    "### 1. For the suburb Altona, it is postulated that a typical property sells for USD800,000. Use the data at hand to test this assumption. Is the typical property price really USD800,000 or has it increased? Use a significance level of 5%. \n",
    "\n",
    "### Now the Hypothesises\n",
    "- Null Hypothesis (𝐻0): The mean property price in Altona is USD 800,000 (𝜇=800,000).\n",
    "- Alternative Hypothesis (𝐻𝑎): The mean property price in Altona is not USD 800,000 (𝜇 ≠ 800,000)."
   ]
  },
  {
   "cell_type": "code",
   "execution_count": 13,
   "id": "d2a2cf0b",
   "metadata": {},
   "outputs": [
    {
     "name": "stdout",
     "output_type": "stream",
     "text": [
      "Sample Mean: 834830.4054054054\n",
      "Sample Standard Deviation: 291546.04547367844\n",
      "t-statistic: 1.0277020770199676\n",
      "p-value (two-tailed): 0.1537416356527775\n",
      "Fail to reject the null hypothesis. There is not enough evidence to suggest the typical property price in Altona is different from USD 800,000.\n"
     ]
    }
   ],
   "source": [
    "# Filter data for Altona\n",
    "altona_prices = df[df['Suburb'] == 'Altona']['Price']\n",
    "\n",
    "# Calculate sample statistics\n",
    "sample_mean = altona_prices.mean()\n",
    "sample_std = altona_prices.std(ddof=1)  # Sample standard deviation\n",
    "n = altona_prices.count()\n",
    "\n",
    "# Perform the one-sample t-test\n",
    "hypothesized_mean = 800000\n",
    "t_statistic, p_value = ss.ttest_1samp(altona_prices, hypothesized_mean)\n",
    "\n",
    "# Two-tailed test p-value\n",
    "p_value_two_tailed = p_value / 2  # since we want to check for both directions\n",
    "\n",
    "# Determine significance\n",
    "alpha = 0.05\n",
    "if p_value_two_tailed < alpha:\n",
    "    result = \"Reject the null hypothesis. The typical property price in Altona is significantly different from USD 800,000.\"\n",
    "else:\n",
    "    result = \"Fail to reject the null hypothesis. There is not enough evidence to suggest the typical property price in Altona is different from USD 800,000.\"\n",
    "\n",
    "# Print results\n",
    "print(f\"Sample Mean: {sample_mean}\")\n",
    "print(f\"Sample Standard Deviation: {sample_std}\")\n",
    "print(f\"t-statistic: {t_statistic}\")\n",
    "print(f\"p-value (two-tailed): {p_value_two_tailed}\")\n",
    "print(result)\n"
   ]
  },
  {
   "cell_type": "markdown",
   "id": "3f2e9603",
   "metadata": {},
   "source": [
    "### Interprtation \n",
    "- Since the p-value (0.154) is greater than the significance level (0.05), you fail to reject the null hypothesis. This means that there is not enough statistical evidence to conclude that the typical property price in Altona is different from USD 800,000.\n",
    "\n",
    "### Solution\n",
    "- Based on your analysis, it seems that the assumption of a typical property price of USD 800,000 in Altona is consistent with the data. While the sample mean is higher, the difference is not statistically significant given the variability in property prices."
   ]
  },
  {
   "cell_type": "markdown",
   "id": "3f021865",
   "metadata": {},
   "source": [
    "### 2. For the year 2016, is there any difference in prices of properties sold in the summer months vs winter months? Consider months from October till March as winter months and the rest as summer months. Use a significance level of 5%. \n",
    "\n",
    "### Hypothesises\n",
    "- Null Hypothesis (𝐻0): There is no difference in mean property prices between summer and winter months (𝜇 summer = 𝜇 winter).\n",
    "- Alternative Hypothesis (𝐻𝑎): There is a difference in mean property prices between summer and winter months (𝜇 summer ≠ 𝜇 winter)."
   ]
  },
  {
   "cell_type": "code",
   "execution_count": 35,
   "id": "67cafcbb",
   "metadata": {},
   "outputs": [
    {
     "name": "stdout",
     "output_type": "stream",
     "text": [
      "t-statistic: -3.9211012778003753\n",
      "p-value: 8.950129747463378e-05\n",
      "Reject the null hypothesis. There is a significant difference in prices.\n"
     ]
    },
    {
     "name": "stderr",
     "output_type": "stream",
     "text": [
      "C:\\Users\\husai\\AppData\\Local\\Temp\\ipykernel_11796\\371147639.py:6: SettingWithCopyWarning: \n",
      "A value is trying to be set on a copy of a slice from a DataFrame.\n",
      "Try using .loc[row_indexer,col_indexer] = value instead\n",
      "\n",
      "See the caveats in the documentation: https://pandas.pydata.org/pandas-docs/stable/user_guide/indexing.html#returning-a-view-versus-a-copy\n",
      "  df_2016['Season'] = df_2016['Date'].dt.month.apply(lambda x: 'Winter' if x in [10, 11, 12, 1, 2, 3] else 'Summer')\n"
     ]
    }
   ],
   "source": [
    "# Filter data for the year 2016\n",
    "df['Date'] = pd.to_datetime(df['Date'])  # Ensure 'Date' is in datetime format\n",
    "df_2016 = df[df['Date'].dt.year == 2016]\n",
    "\n",
    "# Step 2: Categorize months into summer and winter\n",
    "df_2016['Season'] = df_2016['Date'].dt.month.apply(lambda x: 'Winter' if x in [10, 11, 12, 1, 2, 3] else 'Summer')\n",
    "\n",
    "# Step 3: Separate property prices by season\n",
    "summer_prices = df_2016[df_2016['Season'] == 'Summer']['Price']\n",
    "winter_prices = df_2016[df_2016['Season'] == 'Winter']['Price']\n",
    "\n",
    "# Step 4: Perform the two-sample t-test\n",
    "t_statistic, p_value = ss.ttest_ind(summer_prices, winter_prices, equal_var=False)\n",
    "\n",
    "# Step 5: Determine significance\n",
    "alpha = 0.05\n",
    "if p_value < alpha:\n",
    "    result = \"Reject the null hypothesis. There is a significant difference in prices.\"\n",
    "else:\n",
    "    result = \"Fail to reject the null hypothesis. There is not enough evidence to suggest a significant difference in prices.\"\n",
    "\n",
    "# Print results\n",
    "print(f\"t-statistic: {t_statistic}\")\n",
    "print(f\"p-value: {p_value}\")\n",
    "print(result)"
   ]
  },
  {
   "cell_type": "markdown",
   "id": "344dd385",
   "metadata": {},
   "source": [
    " ### Visualizing the Results"
   ]
  },
  {
   "cell_type": "code",
   "execution_count": 36,
   "id": "390cbb49",
   "metadata": {},
   "outputs": [
    {
     "data": {
      "image/png": "[encoded data removed]",
      "text/plain": [
       "<Figure size 1000x600 with 1 Axes>"
      ]
     },
     "metadata": {},
     "output_type": "display_data"
    }
   ],
   "source": [
    "# Create a new column for the season\n",
    "df['Season'] = df['Date'].dt.month.apply(lambda x: 'Summer' if x in [4, 5, 6, 7, 8, 9] else 'Winter')\n",
    "\n",
    "# Filter for the year 2016\n",
    "df_2016 = df[df['Date'].dt.year == 2016]\n",
    "\n",
    "# Create the box plot\n",
    "plt.figure(figsize=(10, 6))\n",
    "sns.boxplot(x='Season', y='Price', data=df_2016)\n",
    "plt.title('Property Prices in Summer vs Winter (2016)')\n",
    "plt.xlabel('Season')\n",
    "plt.ylabel('Price (USD)')\n",
    "plt.grid(True)\n",
    "plt.show()\n"
   ]
  },
  {
   "cell_type": "markdown",
   "id": "6406bc66",
   "metadata": {},
   "source": [
    "### Interprtation\n",
    "- It indicates that the t-statistic is approximately -3.92, and the p-value is about 8.950129747463378e-05 Given that the p-value is much lower than the significance level of 0.05, it correctly rejecting the null hypothesis.\n",
    "\n",
    "### Solution\n",
    "- This means there is a statistically significant difference in property prices between the summer and winter months for the year 2016."
   ]
  },
  {
   "cell_type": "markdown",
   "id": "ea680c81",
   "metadata": {},
   "source": [
    "### 3. For the suburb Abbotsford, what is the probability that out of 10 properties sold, 3 will not have car parking? Use the column car in the dataset. Round off your answer to 3 decimal places. "
   ]
  },
  {
   "cell_type": "code",
   "execution_count": 39,
   "id": "e612ce5f",
   "metadata": {
    "scrolled": true
   },
   "outputs": [
    {
     "name": "stdout",
     "output_type": "stream",
     "text": [
      "0.0\n"
     ]
    }
   ],
   "source": [
    "from scipy.stats import binom\n",
    "\n",
    "#Filtering the data for Abbotsford\n",
    "abbotsford_data = df[df['Suburb'] == 'Abbotsford']\n",
    "\n",
    "# Calculate total properties and properties without parking\n",
    "total_properties = abbotsford_data.shape[0]\n",
    "properties_without_parking = abbotsford_data[abbotsford_data['Car'] == 'No'].shape[0]\n",
    "\n",
    "# Calculate probability of not having parking\n",
    "p = properties_without_parking / total_properties\n",
    "\n",
    "# Calculate the probability of exactly 3 out of 10 properties not having parking\n",
    "n = 10  # number of properties sold\n",
    "k = 3   # properties without parking\n",
    "probability = binom.pmf(k, n, p)\n",
    "\n",
    "# Round off the result\n",
    "rounded_probability = round(probability, 3)\n",
    "\n",
    "# Print the result\n",
    "print(rounded_probability)"
   ]
  },
  {
   "cell_type": "code",
   "execution_count": 40,
   "id": "9e96830b",
   "metadata": {},
   "outputs": [
    {
     "name": "stdout",
     "output_type": "stream",
     "text": [
      "Car\n",
      "1.0    29\n",
      "0.0    15\n",
      "2.0    12\n",
      "Name: count, dtype: int64\n"
     ]
    }
   ],
   "source": [
    "# Verify how many properties in Abbotsford have parking versus those that do not.\n",
    "print(abbotsford_data['Car'].value_counts())"
   ]
  },
  {
   "cell_type": "code",
   "execution_count": 42,
   "id": "c8f847d7",
   "metadata": {
    "scrolled": true
   },
   "outputs": [
    {
     "name": "stdout",
     "output_type": "stream",
     "text": [
      "Probability of no car parking (p): 0.0\n"
     ]
    }
   ],
   "source": [
    "# Calculate the Probability 𝑝\n",
    "total_properties = abbotsford_data.shape[0]\n",
    "properties_without_parking = abbotsford_data[abbotsford_data['Car'] == 'No'].shape[0]\n",
    "p = properties_without_parking / total_properties\n",
    "print(f\"Probability of no car parking (p): {p}\")\n"
   ]
  },
  {
   "cell_type": "markdown",
   "id": "8d37737c",
   "metadata": {},
   "source": [
    "### Solution\n",
    "- There is no probability of selecting 3 properties without car parking from Abbotsford, as no such properties exist in your dataset."
   ]
  },
  {
   "cell_type": "markdown",
   "id": "b8531d92",
   "metadata": {},
   "source": [
    "### 4. In the suburb Abbotsford, what are the chances of finding a property with 3 rooms? Round your answer to 3 decimal places. "
   ]
  },
  {
   "cell_type": "code",
   "execution_count": 44,
   "id": "93a9afe3",
   "metadata": {},
   "outputs": [
    {
     "data": {
      "text/plain": [
       "0.357"
      ]
     },
     "execution_count": 44,
     "metadata": {},
     "output_type": "execute_result"
    }
   ],
   "source": [
    "#Filtering the data for Abbotsford\n",
    "abbotsford_properties = df[df['Suburb'] == 'Abbotsford']\n",
    "\n",
    "# Total number of properties in Abbotsford\n",
    "total_properties = abbotsford_properties.shape[0]\n",
    "\n",
    "# Count the number of properties with 3 rooms\n",
    "properties_with_3_rooms = abbotsford_properties[abbotsford_properties['Rooms'] == 3].shape[0]\n",
    "\n",
    "# Calculate the probability\n",
    "probability_3_rooms = properties_with_3_rooms / total_properties if total_properties > 0 else 0\n",
    "\n",
    "# Round to 3 decimal places\n",
    "probability_3_rooms_rounded = round(probability_3_rooms, 3)\n",
    "\n",
    "probability_3_rooms_rounded\n"
   ]
  },
  {
   "cell_type": "markdown",
   "id": "0ab113e4",
   "metadata": {},
   "source": [
    "### Solution\n",
    "- The probability of finding a property with 3 rooms in Abbotsford is approximately 0.357. This means there's about a 35.7% chance of randomly selecting a property in that suburb that has 3 rooms."
   ]
  },
  {
   "cell_type": "markdown",
   "id": "4909f935",
   "metadata": {},
   "source": [
    "### 5. In the suburb Abbotsford, what are the chances of finding a property with 2 bathrooms? Round your answer to 3 decimal places. "
   ]
  },
  {
   "cell_type": "code",
   "execution_count": 45,
   "id": "e8537b92",
   "metadata": {},
   "outputs": [
    {
     "data": {
      "text/plain": [
       "0.339"
      ]
     },
     "execution_count": 45,
     "metadata": {},
     "output_type": "execute_result"
    }
   ],
   "source": [
    "# Filter for Abbotsford properties\n",
    "abbotsford_properties = df[df['Suburb'] == 'Abbotsford']\n",
    "\n",
    "# Total number of properties in Abbotsford\n",
    "total_properties = len(abbotsford_properties)\n",
    "\n",
    "# Number of properties with 2 bathrooms\n",
    "properties_with_2_bathrooms = len(abbotsford_properties[abbotsford_properties['Bathroom'] == 2])\n",
    "\n",
    "# Calculate probability\n",
    "probability_2_bathrooms = properties_with_2_bathrooms / total_properties\n",
    "\n",
    "# Round to 3 decimal places\n",
    "probability_2_bathrooms_rounded = round(probability_2_bathrooms, 3)\n",
    "\n",
    "probability_2_bathrooms_rounded"
   ]
  },
  {
   "cell_type": "markdown",
   "id": "58e3dd0a",
   "metadata": {},
   "source": [
    "### Solution\n",
    "- The probability of finding a property with 2 rooms in Abbotsford is approximately 0.339. This means there's about a 33.9% chance of randomly selecting a property in that suburb that has 2 rooms."
   ]
  }
 ],
 "metadata": {
  "kernelspec": {
   "display_name": "Python 3 (ipykernel)",
   "language": "python",
   "name": "python3"
  },
  "language_info": {
   "codemirror_mode": {
    "name": "ipython",
    "version": 3
   },
   "file_extension": ".py",
   "mimetype": "text/x-python",
   "name": "python",
   "nbconvert_exporter": "python",
   "pygments_lexer": "ipython3",
   "version": "3.11.5"
  }
 },
 "nbformat": 4,
 "nbformat_minor": 5
}
